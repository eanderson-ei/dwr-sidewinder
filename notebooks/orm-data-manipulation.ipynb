{
 "cells": [
  {
   "cell_type": "markdown",
   "id": "vertical-classification",
   "metadata": {},
   "source": [
    "# DWR Sidewinder ORM & Data Manipulation"
   ]
  },
  {
   "cell_type": "markdown",
   "id": "serial-armenia",
   "metadata": {},
   "source": [
    "This notebook captures the logic for setting up an ORM with SQLAlchemy, connecting to a Postgres database, ingesting data from forms, manipulating data, and visualizing data for habitat forecasting.\n",
    "\n",
    "1. Setting up SQLAlchemy\n",
    "2. ORM\n",
    "3. Passing data from tables and views\n",
    "4. Data manipulation\n",
    "5. Data visualizations"
   ]
  },
  {
   "cell_type": "markdown",
   "id": "occupational-honolulu",
   "metadata": {},
   "source": [
    "## 1. Setting up SQL Alchemy"
   ]
  },
  {
   "cell_type": "code",
   "execution_count": null,
   "id": "hungry-alloy",
   "metadata": {},
   "outputs": [],
   "source": []
  }
 ],
 "metadata": {
  "kernelspec": {
   "display_name": "Python 3",
   "language": "python",
   "name": "python3"
  },
  "language_info": {
   "codemirror_mode": {
    "name": "ipython",
    "version": 3
   },
   "file_extension": ".py",
   "mimetype": "text/x-python",
   "name": "python",
   "nbconvert_exporter": "python",
   "pygments_lexer": "ipython3",
   "version": "3.9.2"
  }
 },
 "nbformat": 4,
 "nbformat_minor": 5
}

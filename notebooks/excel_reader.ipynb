{
 "cells": [
  {
   "cell_type": "code",
   "execution_count": 58,
   "id": "59b99743",
   "metadata": {},
   "outputs": [],
   "source": [
    "import pandas as pd"
   ]
  },
  {
   "cell_type": "markdown",
   "id": "99e9c829",
   "metadata": {},
   "source": [
    "## Melt Habitat Outcomes"
   ]
  },
  {
   "cell_type": "code",
   "execution_count": 108,
   "id": "26a1796b",
   "metadata": {},
   "outputs": [
    {
     "name": "stderr",
     "output_type": "stream",
     "text": [
      "C:\\Users\\Erik\\miniconda3\\envs\\dwr-sidewinder-nb\\lib\\site-packages\\openpyxl\\worksheet\\_reader.py:312: UserWarning: Data Validation extension is not supported and will be removed\n",
      "  warn(msg)\n"
     ]
    }
   ],
   "source": [
    "df = pd.read_excel('../data/Database of Expected Projects.xlsx', 'habitat_outcomes', usecols=\"A, E:O\")"
   ]
  },
  {
   "cell_type": "code",
   "execution_count": 109,
   "id": "43175d07",
   "metadata": {},
   "outputs": [
    {
     "data": {
      "text/html": [
       "<div>\n",
       "<style scoped>\n",
       "    .dataframe tbody tr th:only-of-type {\n",
       "        vertical-align: middle;\n",
       "    }\n",
       "\n",
       "    .dataframe tbody tr th {\n",
       "        vertical-align: top;\n",
       "    }\n",
       "\n",
       "    .dataframe thead th {\n",
       "        text-align: right;\n",
       "    }\n",
       "</style>\n",
       "<table border=\"1\" class=\"dataframe\">\n",
       "  <thead>\n",
       "    <tr style=\"text-align: right;\">\n",
       "      <th></th>\n",
       "      <th>parcel_id</th>\n",
       "      <th>verified</th>\n",
       "      <th>quantity</th>\n",
       "      <th>unit</th>\n",
       "      <th>habitat_type</th>\n",
       "    </tr>\n",
       "  </thead>\n",
       "  <tbody>\n",
       "    <tr>\n",
       "      <th>0</th>\n",
       "      <td>1</td>\n",
       "      <td>False</td>\n",
       "      <td>167.00</td>\n",
       "      <td>acres</td>\n",
       "      <td>floodplain_transient</td>\n",
       "    </tr>\n",
       "    <tr>\n",
       "      <th>1</th>\n",
       "      <td>3</td>\n",
       "      <td>False</td>\n",
       "      <td>102.86</td>\n",
       "      <td>acres</td>\n",
       "      <td>riparian</td>\n",
       "    </tr>\n",
       "    <tr>\n",
       "      <th>2</th>\n",
       "      <td>2</td>\n",
       "      <td>False</td>\n",
       "      <td>12.00</td>\n",
       "      <td>miles</td>\n",
       "      <td>sra_natural_bank</td>\n",
       "    </tr>\n",
       "  </tbody>\n",
       "</table>\n",
       "</div>"
      ],
      "text/plain": [
       "   parcel_id  verified  quantity   unit          habitat_type\n",
       "0          1     False    167.00  acres  floodplain_transient\n",
       "1          3     False    102.86  acres              riparian\n",
       "2          2     False     12.00  miles      sra_natural_bank"
      ]
     },
     "execution_count": 109,
     "metadata": {},
     "output_type": "execute_result"
    }
   ],
   "source": [
    "df = df.melt(id_vars=['parcel_id', 'verified', 'unit'], \n",
    "                     var_name='habitat_type', value_name='quantity').dropna(subset=['quantity'])\n",
    "df = df.reset_index().rename({'index':'id'}, axis=1)\n",
    "df = df[['parcel_id', 'verified', 'quantity', 'unit', 'habitat_type']]\n",
    "df"
   ]
  },
  {
   "cell_type": "markdown",
   "id": "ab3c76ee",
   "metadata": {},
   "source": [
    "## Melt Project Mitigation"
   ]
  },
  {
   "cell_type": "code",
   "execution_count": 88,
   "id": "25ae0bd5",
   "metadata": {},
   "outputs": [
    {
     "name": "stderr",
     "output_type": "stream",
     "text": [
      "C:\\Users\\Erik\\miniconda3\\envs\\dwr-sidewinder-nb\\lib\\site-packages\\openpyxl\\worksheet\\_reader.py:312: UserWarning: Data Validation extension is not supported and will be removed\n",
      "  warn(msg)\n"
     ]
    },
    {
     "data": {
      "text/html": [
       "<div>\n",
       "<style scoped>\n",
       "    .dataframe tbody tr th:only-of-type {\n",
       "        vertical-align: middle;\n",
       "    }\n",
       "\n",
       "    .dataframe tbody tr th {\n",
       "        vertical-align: top;\n",
       "    }\n",
       "\n",
       "    .dataframe thead th {\n",
       "        text-align: right;\n",
       "    }\n",
       "</style>\n",
       "<table border=\"1\" class=\"dataframe\">\n",
       "  <thead>\n",
       "    <tr style=\"text-align: right;\">\n",
       "      <th></th>\n",
       "      <th>parcel_id</th>\n",
       "      <th>quantity</th>\n",
       "      <th>unit</th>\n",
       "      <th>mitigation_type</th>\n",
       "    </tr>\n",
       "  </thead>\n",
       "  <tbody>\n",
       "  </tbody>\n",
       "</table>\n",
       "</div>"
      ],
      "text/plain": [
       "Empty DataFrame\n",
       "Columns: [parcel_id, quantity, unit, mitigation_type]\n",
       "Index: []"
      ]
     },
     "execution_count": 88,
     "metadata": {},
     "output_type": "execute_result"
    }
   ],
   "source": [
    "df = pd.read_excel('../data/Database of Expected Projects.xlsx', 'project_mitigation', usecols=\"A,E:H\")\n",
    "df = df.melt(id_vars=['parcel_id', 'unit'], \n",
    "                     var_name='mitigation_type', value_name='quantity').dropna(subset=['quantity'])\n",
    "df = df[['parcel_id', 'quantity', 'unit', 'mitigation_type']]\n",
    "df"
   ]
  },
  {
   "cell_type": "markdown",
   "id": "4ce3c657",
   "metadata": {},
   "source": [
    "## Melt projects_project_elements"
   ]
  },
  {
   "cell_type": "code",
   "execution_count": 106,
   "id": "7ce16358",
   "metadata": {},
   "outputs": [
    {
     "name": "stderr",
     "output_type": "stream",
     "text": [
      "C:\\Users\\Erik\\miniconda3\\envs\\dwr-sidewinder-nb\\lib\\site-packages\\openpyxl\\worksheet\\_reader.py:312: UserWarning: Data Validation extension is not supported and will be removed\n",
      "  warn(msg)\n"
     ]
    },
    {
     "data": {
      "text/html": [
       "<div>\n",
       "<style scoped>\n",
       "    .dataframe tbody tr th:only-of-type {\n",
       "        vertical-align: middle;\n",
       "    }\n",
       "\n",
       "    .dataframe tbody tr th {\n",
       "        vertical-align: top;\n",
       "    }\n",
       "\n",
       "    .dataframe thead th {\n",
       "        text-align: right;\n",
       "    }\n",
       "</style>\n",
       "<table border=\"1\" class=\"dataframe\">\n",
       "  <thead>\n",
       "    <tr style=\"text-align: right;\">\n",
       "      <th></th>\n",
       "      <th>project_id</th>\n",
       "      <th>project_element</th>\n",
       "    </tr>\n",
       "  </thead>\n",
       "  <tbody>\n",
       "    <tr>\n",
       "      <th>0</th>\n",
       "      <td>1</td>\n",
       "      <td>2.0</td>\n",
       "    </tr>\n",
       "    <tr>\n",
       "      <th>23</th>\n",
       "      <td>2</td>\n",
       "      <td>1.0</td>\n",
       "    </tr>\n",
       "  </tbody>\n",
       "</table>\n",
       "</div>"
      ],
      "text/plain": [
       "    project_id  project_element\n",
       "0            1              2.0\n",
       "23           2              1.0"
      ]
     },
     "execution_count": 106,
     "metadata": {},
     "output_type": "execute_result"
    }
   ],
   "source": [
    "df = pd.read_excel('../data/Database of Expected Projects.xlsx', 'projects', usecols=\"A, Z, AB\")\n",
    "df = df.melt(id_vars=['id'], var_name='element_name', value_name='project_element')\\\n",
    "            .dropna(subset=['project_element'])\n",
    "df = df.drop('element_name', axis=1)\\\n",
    "            .rename({'id': 'project_id'}, axis=1)\n",
    "df"
   ]
  }
 ],
 "metadata": {
  "kernelspec": {
   "display_name": "Python 3",
   "language": "python",
   "name": "python3"
  },
  "language_info": {
   "codemirror_mode": {
    "name": "ipython",
    "version": 3
   },
   "file_extension": ".py",
   "mimetype": "text/x-python",
   "name": "python",
   "nbconvert_exporter": "python",
   "pygments_lexer": "ipython3",
   "version": "3.9.2"
  }
 },
 "nbformat": 4,
 "nbformat_minor": 5
}

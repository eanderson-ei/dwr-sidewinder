{
 "cells": [
  {
   "cell_type": "code",
   "execution_count": 4,
   "id": "4a0ccc4b",
   "metadata": {},
   "outputs": [],
   "source": [
    "import sys\n",
    "sys.path.append('../')"
   ]
  },
  {
   "cell_type": "code",
   "execution_count": 5,
   "id": "a97ceb92",
   "metadata": {},
   "outputs": [],
   "source": [
    "from app import db\n",
    "from app.data import xlForecast\n",
    "from app.models import *"
   ]
  },
  {
   "cell_type": "code",
   "execution_count": 9,
   "id": "a546a3be",
   "metadata": {},
   "outputs": [],
   "source": [
    "F = '../data/Database of Expected Projects.xlsx'"
   ]
  },
  {
   "cell_type": "code",
   "execution_count": 41,
   "id": "8130ce86",
   "metadata": {},
   "outputs": [],
   "source": [
    "prop_to_class_map = {\n",
    "    'agencies': Agency,\n",
    "    'implementers': Implementer,\n",
    "    'project_statuses': ProjectStatus,\n",
    "    'rfmps': RFMP,\n",
    "    'counties': County,\n",
    "    'conservation_planning_areas': ConservationPlanningArea,\n",
    "    'service_areas': ServiceArea,\n",
    "    'project_elements': ProjectElement,\n",
    "    'programs': Program,\n",
    "    'habitat_types': HabitatType,\n",
    "    'habitat_units': HabitatUnit,\n",
    "    'mitigation_types': MitigationType,\n",
    "    'projects': Project,\n",
    "    'habitat_parcels': HabitatParcel,\n",
    "    'habitat_outcomes': HabitatOutcome,\n",
    "    'mitigation_parcels': MitigationParcel,\n",
    "    'project_mitigation': ProjectMitigation,\n",
    "    'project_commitments': ProjectCommitment,\n",
    "    'mitigation_credits': MitigationCredit,\n",
    "    'mandates': Mandate,\n",
    "    'impact': Impact,\n",
    "    'mitigation_needs': MitigationNeed,\n",
    "    'funding_source': FundingSource,\n",
    "    'project_funding': ProjectFunding,\n",
    "    'cosmos_targets': CosmosTarget\n",
    "    }\n",
    "\n",
    "prop_to_table_map = {\n",
    "    'project_project_elements': project_project_elements,\n",
    "    'project_programs': projects_programs,\n",
    "    'project_fpts': project_fpts,\n",
    "    'credit_approver': credit_approver     \n",
    "}"
   ]
  },
  {
   "cell_type": "code",
   "execution_count": 10,
   "id": "eb315be1",
   "metadata": {},
   "outputs": [],
   "source": [
    "data = xlForecast(F)"
   ]
  },
  {
   "cell_type": "code",
   "execution_count": 21,
   "id": "74822664",
   "metadata": {},
   "outputs": [
    {
     "data": {
      "text/plain": [
       "[{'project_status': 'Planning'},\n",
       " {'project_status': 'Permitting'},\n",
       " {'project_status': 'Implementation'},\n",
       " {'project_status': 'O&M'},\n",
       " {'project_status': 'Complete'},\n",
       " {'project_status': 'On Hold'},\n",
       " {'project_status': 'In Progress'}]"
      ]
     },
     "execution_count": 21,
     "metadata": {},
     "output_type": "execute_result"
    }
   ],
   "source": [
    "data.project_statuses.to_dict('records')"
   ]
  },
  {
   "cell_type": "code",
   "execution_count": 29,
   "id": "2cc4ba71",
   "metadata": {},
   "outputs": [
    {
     "name": "stdout",
     "output_type": "stream",
     "text": [
      "<ProjectStatus (transient 2484307214736)>\n",
      "<ProjectStatus (transient 2484307214736)>\n",
      "<ProjectStatus (transient 2484307214736)>\n",
      "<ProjectStatus (transient 2484307214736)>\n",
      "<ProjectStatus (transient 2484307214736)>\n",
      "<ProjectStatus (transient 2484307214736)>\n",
      "<ProjectStatus (transient 2484307214736)>\n"
     ]
    }
   ],
   "source": [
    "for row in data.project_statuses.to_dict('records'):\n",
    "    print(ProjectStatus(**row))"
   ]
  },
  {
   "cell_type": "code",
   "execution_count": 36,
   "id": "5fb4f601",
   "metadata": {},
   "outputs": [
    {
     "data": {
      "text/html": [
       "<div>\n",
       "<style scoped>\n",
       "    .dataframe tbody tr th:only-of-type {\n",
       "        vertical-align: middle;\n",
       "    }\n",
       "\n",
       "    .dataframe tbody tr th {\n",
       "        vertical-align: top;\n",
       "    }\n",
       "\n",
       "    .dataframe thead th {\n",
       "        text-align: right;\n",
       "    }\n",
       "</style>\n",
       "<table border=\"1\" class=\"dataframe\">\n",
       "  <thead>\n",
       "    <tr style=\"text-align: right;\">\n",
       "      <th></th>\n",
       "      <th>project_status</th>\n",
       "    </tr>\n",
       "  </thead>\n",
       "  <tbody>\n",
       "    <tr>\n",
       "      <th>0</th>\n",
       "      <td>Planning</td>\n",
       "    </tr>\n",
       "    <tr>\n",
       "      <th>1</th>\n",
       "      <td>Permitting</td>\n",
       "    </tr>\n",
       "    <tr>\n",
       "      <th>2</th>\n",
       "      <td>Implementation</td>\n",
       "    </tr>\n",
       "    <tr>\n",
       "      <th>3</th>\n",
       "      <td>O&amp;M</td>\n",
       "    </tr>\n",
       "    <tr>\n",
       "      <th>4</th>\n",
       "      <td>Complete</td>\n",
       "    </tr>\n",
       "    <tr>\n",
       "      <th>5</th>\n",
       "      <td>On Hold</td>\n",
       "    </tr>\n",
       "    <tr>\n",
       "      <th>6</th>\n",
       "      <td>In Progress</td>\n",
       "    </tr>\n",
       "  </tbody>\n",
       "</table>\n",
       "</div>"
      ],
      "text/plain": [
       "   project_status\n",
       "0        Planning\n",
       "1      Permitting\n",
       "2  Implementation\n",
       "3             O&M\n",
       "4        Complete\n",
       "5         On Hold\n",
       "6     In Progress"
      ]
     },
     "execution_count": 36,
     "metadata": {},
     "output_type": "execute_result"
    }
   ],
   "source": [
    "getattr(data, 'project_statuses')"
   ]
  },
  {
   "cell_type": "code",
   "execution_count": 43,
   "id": "1148656d",
   "metadata": {},
   "outputs": [
    {
     "name": "stdout",
     "output_type": "stream",
     "text": [
      "agencies <class 'app.models.Agency'>\n",
      "implementers <class 'app.models.Implementer'>\n",
      "project_statuses <class 'app.models.ProjectStatus'>\n",
      "rfmps <class 'app.models.RFMP'>\n",
      "counties <class 'app.models.County'>\n",
      "conservation_planning_areas <class 'app.models.ConservationPlanningArea'>\n",
      "service_areas <class 'app.models.ServiceArea'>\n",
      "project_elements <class 'app.models.ProjectElement'>\n",
      "programs <class 'app.models.Program'>\n",
      "habitat_types <class 'app.models.HabitatType'>\n",
      "habitat_units <class 'app.models.HabitatUnit'>\n",
      "mitigation_types <class 'app.models.MitigationType'>\n",
      "projects <class 'app.models.Project'>\n",
      "habitat_parcels <class 'app.models.HabitatParcel'>\n",
      "habitat_outcomes <class 'app.models.HabitatOutcome'>\n",
      "mitigation_parcels <class 'app.models.MitigationParcel'>\n",
      "project_mitigation <class 'app.models.ProjectMitigation'>\n",
      "project_commitments <class 'app.models.ProjectCommitment'>\n",
      "mitigation_credits <class 'app.models.MitigationCredit'>\n",
      "mandates <class 'app.models.Mandate'>\n",
      "impact <class 'app.models.Impact'>\n",
      "mitigation_needs <class 'app.models.MitigationNeed'>\n",
      "funding_source <class 'app.models.FundingSource'>\n",
      "project_funding <class 'app.models.ProjectFunding'>\n",
      "cosmos_targets <class 'app.models.CosmosTarget'>\n"
     ]
    }
   ],
   "source": [
    "for prop, tbl_class in prop_to_class_map.items():\n",
    "    print(prop, tbl_class)"
   ]
  },
  {
   "cell_type": "code",
   "execution_count": null,
   "id": "fb997b43",
   "metadata": {},
   "outputs": [],
   "source": [
    "for prop, tbl_class in prop_to_class_map.items():\n",
    "    for row in getattr(data, prop):\n",
    "        db.session.add(tbl_class(**row))\n",
    "    db.session.commit()\n",
    "    "
   ]
  }
 ],
 "metadata": {
  "kernelspec": {
   "display_name": "Python 3",
   "language": "python",
   "name": "python3"
  },
  "language_info": {
   "codemirror_mode": {
    "name": "ipython",
    "version": 3
   },
   "file_extension": ".py",
   "mimetype": "text/x-python",
   "name": "python",
   "nbconvert_exporter": "python",
   "pygments_lexer": "ipython3",
   "version": "3.9.2"
  }
 },
 "nbformat": 4,
 "nbformat_minor": 5
}
